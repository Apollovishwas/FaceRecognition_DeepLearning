{
 "cells": [
  {
   "cell_type": "code",
   "execution_count": 1,
   "id": "65215e65",
   "metadata": {},
   "outputs": [],
   "source": [
    "from PIL import Image, ImageDraw\n",
    "import face_recognition"
   ]
  },
  {
   "cell_type": "code",
   "execution_count": 9,
   "id": "1b51aecf",
   "metadata": {},
   "outputs": [],
   "source": [
    "image = face_recognition.load_image_file('people.jpg')\n"
   ]
  },
  {
   "cell_type": "code",
   "execution_count": 10,
   "id": "11f3df7d",
   "metadata": {},
   "outputs": [],
   "source": [
    "face_landmark_list= face_recognition.face_landmarks(image)"
   ]
  },
  {
   "cell_type": "code",
   "execution_count": 11,
   "id": "4cc47378",
   "metadata": {},
   "outputs": [],
   "source": [
    "pil_image=Image.fromarray(image)"
   ]
  },
  {
   "cell_type": "code",
   "execution_count": 12,
   "id": "cd54f97f",
   "metadata": {},
   "outputs": [],
   "source": [
    "d = ImageDraw.Draw(pil_image, 'RGBA')"
   ]
  },
  {
   "cell_type": "code",
   "execution_count": 13,
   "id": "523fb47a",
   "metadata": {},
   "outputs": [],
   "source": [
    "for face_landmark in face_landmark_list:\n",
    "    d.line(face_landmark['left_eyebrow'], fill = (128,0,128,100), width=3)\n",
    "    d.line(face_landmark['right_eyebrow'], fill = (128,0,128,100), width=3)\n",
    "    #ploygon \n",
    "    d.polygon(face_landmark['top_lip'], fill = (128,0,128,100), width=3)\n",
    "    d.polygon(face_landmark['bottom_lip'], fill = (128,0,128,100), width=3)\n",
    "    "
   ]
  },
  {
   "cell_type": "code",
   "execution_count": 14,
   "id": "6fc34bcd",
   "metadata": {},
   "outputs": [],
   "source": [
    "pil_image.show()"
   ]
  },
  {
   "cell_type": "code",
   "execution_count": null,
   "id": "9dfb3805",
   "metadata": {},
   "outputs": [],
   "source": []
  }
 ],
 "metadata": {
  "kernelspec": {
   "display_name": "Python 3 (ipykernel)",
   "language": "python",
   "name": "python3"
  },
  "language_info": {
   "codemirror_mode": {
    "name": "ipython",
    "version": 3
   },
   "file_extension": ".py",
   "mimetype": "text/x-python",
   "name": "python",
   "nbconvert_exporter": "python",
   "pygments_lexer": "ipython3",
   "version": "3.7.13"
  }
 },
 "nbformat": 4,
 "nbformat_minor": 5
}
