{
 "cells": [
  {
   "cell_type": "code",
   "execution_count": 1,
   "id": "5168d28d",
   "metadata": {},
   "outputs": [],
   "source": [
    "import face_recognition"
   ]
  },
  {
   "cell_type": "code",
   "execution_count": 2,
   "id": "0dda95af",
   "metadata": {},
   "outputs": [],
   "source": [
    "#loading known person's images\n",
    "person_one = face_recognition.load_image_file('person_1.jpg')\n",
    "person_two = face_recognition.load_image_file('person_2.jpg')\n",
    "person_three = face_recognition.load_image_file('person_3.jpg')"
   ]
  },
  {
   "cell_type": "code",
   "execution_count": 7,
   "id": "8e82127c",
   "metadata": {},
   "outputs": [],
   "source": [
    "#finding face_encodings\n",
    "pOne_faceEncoding = face_recognition.face_encodings(person_one)[0]\n",
    "pTwo_faceEncoding = face_recognition.face_encodings(person_two)[0]\n",
    "pThree_faceEncoding = face_recognition.face_encodings(person_three)[0]"
   ]
  },
  {
   "cell_type": "code",
   "execution_count": 8,
   "id": "bdc2f945",
   "metadata": {},
   "outputs": [],
   "source": [
    "#known_face_encodings \n",
    "known_face_encodings= [pOne_faceEncoding,pTwo_faceEncoding,pThree_faceEncoding] "
   ]
  },
  {
   "cell_type": "code",
   "execution_count": 22,
   "id": "067b4180",
   "metadata": {},
   "outputs": [],
   "source": [
    "#unknownImage\n",
    "ui = face_recognition.load_image_file('unknown_7.jpg')\n",
    "ui_faceLocations = face_recognition.face_locations(ui, number_of_times_to_upsample=2)\n",
    "ui_faceEncodings = face_recognition.face_encodings(ui, known_face_locations = ui_faceLocations)\n"
   ]
  },
  {
   "cell_type": "code",
   "execution_count": 23,
   "id": "45aef5c2",
   "metadata": {},
   "outputs": [
    {
     "name": "stdout",
     "output_type": "stream",
     "text": [
      "found Person_2 in the photo\n"
     ]
    }
   ],
   "source": [
    "for unknown_face_encoding in ui_faceEncodings:\n",
    "    result = face_recognition.compare_faces(known_face_encodings, unknown_face_encoding)\n",
    "    name = \"unkown\"\n",
    "    if result[0] == True:\n",
    "        name=\"Person_1\"\n",
    "    elif result[1] == True:\n",
    "        name = \"Person_2\"\n",
    "    elif result[2] == True:\n",
    "        name = \"Person_3\"\n",
    "    print(f\"found {name} in the photo\")\n",
    "    "
   ]
  },
  {
   "cell_type": "code",
   "execution_count": null,
   "id": "e0e37052",
   "metadata": {},
   "outputs": [],
   "source": []
  }
 ],
 "metadata": {
  "kernelspec": {
   "display_name": "Python 3 (ipykernel)",
   "language": "python",
   "name": "python3"
  },
  "language_info": {
   "codemirror_mode": {
    "name": "ipython",
    "version": 3
   },
   "file_extension": ".py",
   "mimetype": "text/x-python",
   "name": "python",
   "nbconvert_exporter": "python",
   "pygments_lexer": "ipython3",
   "version": "3.7.13"
  }
 },
 "nbformat": 4,
 "nbformat_minor": 5
}
