{
 "cells": [
  {
   "cell_type": "code",
   "execution_count": 3,
   "id": "0491ad49",
   "metadata": {},
   "outputs": [],
   "source": [
    "#import libraries\n",
    "import PIL\n",
    "import PIL.ImageDraw\n",
    "#face_recognition is an high level lib, based on dlib and hog\n",
    "import face_recognition"
   ]
  },
  {
   "cell_type": "code",
   "execution_count": 4,
   "id": "4a091f0c",
   "metadata": {},
   "outputs": [],
   "source": [
    "#loading an image\n",
    "image = face_recognition.load_image_file('people.jpg')"
   ]
  },
  {
   "cell_type": "code",
   "execution_count": 6,
   "id": "c565e659",
   "metadata": {},
   "outputs": [],
   "source": [
    "#finding pixel locations of the face in the image\n",
    "face_locations = face_recognition.face_locations(image)"
   ]
  },
  {
   "cell_type": "code",
   "execution_count": 7,
   "id": "c59ca241",
   "metadata": {},
   "outputs": [],
   "source": [
    "#converting normal image to pil image\n",
    "pil_image = PIL.Image.fromarray(image)"
   ]
  },
  {
   "cell_type": "code",
   "execution_count": 9,
   "id": "75e71c85",
   "metadata": {},
   "outputs": [],
   "source": [
    "#plotting each faces\n",
    "for location in face_locations:\n",
    "    top,right,bottom,left=location\n",
    "    draw=PIL.ImageDraw.Draw(pil_image)\n",
    "    draw.rectangle([left,top,right,bottom], outline='red')"
   ]
  },
  {
   "cell_type": "code",
   "execution_count": 11,
   "id": "59579d94",
   "metadata": {},
   "outputs": [],
   "source": [
    "#printing the image\n",
    "pil_image.show()"
   ]
  },
  {
   "cell_type": "code",
   "execution_count": 12,
   "id": "39ad5563",
   "metadata": {},
   "outputs": [],
   "source": [
    "#detecting face landmarks\n",
    "face_landmarks_list = face_recognition.face_landmarks(image)\n",
    "draw=PIL.ImageDraw.Draw(pil_image)\n",
    "\n"
   ]
  },
  {
   "cell_type": "code",
   "execution_count": 14,
   "id": "37365005",
   "metadata": {},
   "outputs": [],
   "source": [
    "#plotting it on the image\n",
    "for face_landmark in face_landmarks_list:\n",
    "    for name, list_of_points in face_landmark.items():\n",
    "        draw.line(list_of_points, fill='green', width=2)\n",
    "        "
   ]
  },
  {
   "cell_type": "code",
   "execution_count": 15,
   "id": "74966ef3",
   "metadata": {},
   "outputs": [],
   "source": [
    "pil_image.show()"
   ]
  },
  {
   "cell_type": "code",
   "execution_count": 17,
   "id": "2a68a287",
   "metadata": {},
   "outputs": [],
   "source": [
    "#finding face encoding \n",
    "person_image = face_recognition.load_image_file('person.jpg')"
   ]
  },
  {
   "cell_type": "code",
   "execution_count": 18,
   "id": "9b1505b6",
   "metadata": {},
   "outputs": [],
   "source": [
    "face_encodings = face_recognition.face_encodings(person_image)"
   ]
  },
  {
   "cell_type": "code",
   "execution_count": 20,
   "id": "f5dc26cf",
   "metadata": {},
   "outputs": [],
   "source": [
    "#face_encodings[0] --> first face in the image"
   ]
  },
  {
   "cell_type": "code",
   "execution_count": null,
   "id": "02409813",
   "metadata": {},
   "outputs": [],
   "source": []
  }
 ],
 "metadata": {
  "kernelspec": {
   "display_name": "Python 3 (ipykernel)",
   "language": "python",
   "name": "python3"
  },
  "language_info": {
   "codemirror_mode": {
    "name": "ipython",
    "version": 3
   },
   "file_extension": ".py",
   "mimetype": "text/x-python",
   "name": "python",
   "nbconvert_exporter": "python",
   "pygments_lexer": "ipython3",
   "version": "3.7.13"
  }
 },
 "nbformat": 4,
 "nbformat_minor": 5
}
